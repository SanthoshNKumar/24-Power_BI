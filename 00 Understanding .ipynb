{
 "cells": [
  {
   "cell_type": "markdown",
   "id": "49f1c946",
   "metadata": {},
   "source": [
    "## What is Power BI \n",
    "\n",
    "-   `Power BI` is a collection of '*software services*', '*apps'*, and '*connectors'* that work together to turn your unrelated sources of data into coherent, visually immerse, and interactive insights.\n",
    "\n",
    "\n",
    "-   Your data might be an 'Excel spreadsheet', or a 'collection of cloud-based' and 'on-premises hybrid data warehouses'.\n",
    "\n",
    "\n",
    "-   `Power BI` lets you easily connect to your '*data sources'*, '*visualize*' and '*discover*' what's important, and share that with anyone or everyone you want.\n",
    "\n",
    "\n",
    "-   `Power BI` is a '*tool*' in '*business intelligence*' that converts '*data*' from various data sources to interactive BI *reports* and *dashboards*. With Power BI, you can quickly connect your data, wrap it, visualize it as needed, and share it on sites securely.\n",
    "\n",
    "\n",
    "-   `Power BI` is a tool in the category of '*Business Intelligence(BI)*'.The purpose of BI is to track Key ***Performance Indicators (KPIs)*** and uncover insights in business data so as to better inform decision-making across the organization.\n",
    "\n",
    "\n",
    "-   `Power BI` is used in different ways depending on the role of the individual, from developers, analysts, managers, and directors, to everyone in between.\n"
   ]
  },
  {
   "cell_type": "code",
   "execution_count": null,
   "id": "e2abccef",
   "metadata": {},
   "outputs": [],
   "source": []
  },
  {
   "cell_type": "markdown",
   "id": "2a6f291b",
   "metadata": {},
   "source": [
    "**Target `Audience` for Power BI are**\n",
    "\n",
    "-   Data Analysts\n",
    "-   Data Scientists\n",
    "-   Business Intelligence Professionals\n",
    "-   Business Analysts\n",
    "-   IT Professionals\n",
    "-   Project Managers"
   ]
  },
  {
   "cell_type": "code",
   "execution_count": null,
   "id": "9c96a0c1",
   "metadata": {},
   "outputs": [],
   "source": []
  },
  {
   "cell_type": "markdown",
   "id": "f280c39c",
   "metadata": {},
   "source": [
    "**The parts of `Power BI`**\n",
    "\n",
    "1.  A Windows desktop application called '**Power BI Desktop'**.\n",
    "\n",
    "2.  An online software as a service (SaaS) service called the '**Power BI service**'.\n",
    "\n",
    "3.  **Power BI Mobile apps** for Windows, iOS, and Android devices.\n",
    "\n"
   ]
  },
  {
   "cell_type": "markdown",
   "id": "98d246c9",
   "metadata": {},
   "source": []
  },
  {
   "cell_type": "markdown",
   "id": "a939b1e8",
   "metadata": {},
   "source": [
    "**Other Features with `Power BI`**\n",
    "\n",
    "`Power BI` also features two other elements:\n",
    "\n",
    "1.  **Power BI Report Builder** - Creating paginated reports to share in the **Power BI service**\n",
    "\n",
    "2.  **Power BI Report Server** - An on-premises report server where you can '**`publish`**' your Power BI reports, after creating them in **`Power BI Desktop`**"
   ]
  },
  {
   "cell_type": "code",
   "execution_count": null,
   "id": "a9936e69",
   "metadata": {},
   "outputs": [],
   "source": []
  },
  {
   "cell_type": "markdown",
   "id": "cc3a98df",
   "metadata": {},
   "source": [
    "**`Power BI` Key Components**\n",
    "\n",
    "1.  Power Query\n",
    "\n",
    "2.  Power Pivot\n",
    "\n",
    "3.  Power View\n",
    "\n",
    "4.  Power Map\n",
    "\n",
    "5.  Power Q&A\n",
    "\n",
    "6.  Power BI Desktop\n",
    "\n",
    "7.  Power BI Website\n",
    "\n",
    "8.  Power BI Mobile Apps\n"
   ]
  },
  {
   "cell_type": "code",
   "execution_count": null,
   "id": "3218741e",
   "metadata": {},
   "outputs": [],
   "source": []
  },
  {
   "cell_type": "markdown",
   "id": "a16ec226",
   "metadata": {},
   "source": [
    "**Benefits of `Power BI`**\n",
    "\n",
    "1.  Collaboration and Sharing:\n",
    "    -   **Power BI** facilitates collaboration by allowing users to share reports and dashboards with colleagues and stakeholders\n",
    "2.  Data Visualization:\n",
    "    -   **Power BI** enables you to create compelling visualizations, charts, graphs, and dashboards from your data.\n",
    "    -   These visuals are interactive and provide insights that are easy to understand, making it simpler to communicate complex information.\n",
    "3.  Data Connectivity\n",
    "    -   **Power BI** allows you to connect to a wide variety of data sources, including databases, cloud services, spreadsheets, and APIs.\n",
    "4.  Real-Time Dashboards:\n",
    "    -   With **Power BI's** real-time capabilities, you can create live dashboards that display data updates as they happen.\n",
    "\n",
    "    -   This is especially valuable for tracking key performance indicators and making data-driven decisions in real time.\n",
    "5.  Natural Language Queries:\n",
    "    -   **Power BI** supports natural language queries, allowing users to ask questions about their data using everyday language.\n",
    "6.  Data Modeling:\n",
    "    -   The **Power BI** data modeling engine lets you create relationships between different data tables, define calculations, and create measures. This enables you to perform advanced calculations and build complex data models for in-depth analysis.\n",
    "7.  Mobile Accessibility:\n",
    "    1.  **Power BI** offers mobile apps for various platforms, allowing users to access reports and dashboards on smartphones and tablets. This ensures that decision-makers can stay informed even while on the go.\n"
   ]
  },
  {
   "cell_type": "code",
   "execution_count": null,
   "id": "442e8653",
   "metadata": {},
   "outputs": [],
   "source": []
  },
  {
   "cell_type": "markdown",
   "id": "a359accc",
   "metadata": {},
   "source": [
    "**Use of `Power BI` in `Business Intelligence`**\n",
    "\n",
    "The 'BI' in its name refers to `Business intelligence`, a catch-all term used to describe the ***strategies***, ***processes*** and ***technologies*** that organisations use to enable data-driven *decision-making*.\n",
    "\n",
    "`Power BI` allows businesses to bridge the gap between '**data**' and '**decision-making**' by transforming **raw data** from a range of different sources into **powerful insights**. These **insights** are then displayed in a clear, *graphical*, *actionable* way via the *dashboard*.\n"
   ]
  },
  {
   "cell_type": "code",
   "execution_count": null,
   "id": "ee5dcc13",
   "metadata": {},
   "outputs": [],
   "source": []
  },
  {
   "cell_type": "markdown",
   "id": "8588c301",
   "metadata": {},
   "source": [
    "**`Power BI` for Visualization**\n",
    "\n",
    "-   Data visualization,the art of representing data graphically,conveys essential information through charts,graphs,KPIs,and maps.\n",
    "-   `Power BI` provides 'interactive' and visually appealing '***dashboards***' and reports to help you easily 'analyze' and understand data\n",
    "-   `Power BI` provides a variety of visualizations, including charts, graphs, maps, tables, and KPIs, to help users understand and communicate insights from their data.\n",
    "-   It also provides a suite of advanced analytics tools, such as '**drill-through**', '**cross-filtering**', and '**data exploration'**, to help users 'uncover' '**hidden patterns**' and '**relationships**' in their data.\n",
    "-   Business leaders make use of **data storytelling** and **visually** enticing displays that help them communicate with clients, employees and other stakeholders.\n",
    "-   Telling stories through charts and data visualizations.\n",
    "-   Examining what-if scenarios within the data.\n",
    "-   Creating reports that answer questions in real time and help with forecasting to make sure departments meet business metrics.\n"
   ]
  },
  {
   "cell_type": "code",
   "execution_count": null,
   "id": "c1682c78",
   "metadata": {},
   "outputs": [],
   "source": []
  },
  {
   "cell_type": "markdown",
   "id": "d96748e3",
   "metadata": {},
   "source": [
    "**What is `Business Intelligence`**\n",
    "\n",
    "Business Intelligence (BI) – the process of **refining** raw data into **actionable informati**culminating **on**, in illuminating reports and graphics."
   ]
  },
  {
   "cell_type": "code",
   "execution_count": null,
   "id": "471deeda",
   "metadata": {},
   "outputs": [],
   "source": []
  },
  {
   "cell_type": "markdown",
   "id": "d3e183b8",
   "metadata": {},
   "source": [
    "**DashBoards**\n",
    "\n",
    "The **dashboard** is interactive visual, text, and graphic tiles created by you in the `Power BI` service or by a colleague in the\n",
    "\n",
    "`Power BI` service and shared with you. contains a single screen.\n",
    "\n",
    "Why are dashboards created? Some of the reasons are:\n",
    "\n",
    "\\- You'll see all the necessary information on a single page to make a decision.\n",
    "\n",
    "\\- You have the power of monitoring the most important trends in your business.\n",
    "\n",
    "\\- You put everyone in your team in the same direction, viewing and using the same information.\n"
   ]
  },
  {
   "cell_type": "code",
   "execution_count": null,
   "id": "98161d44",
   "metadata": {},
   "outputs": [],
   "source": []
  }
 ],
 "metadata": {
  "kernelspec": {
   "display_name": "Python 3 (ipykernel)",
   "language": "python",
   "name": "python3"
  },
  "language_info": {
   "codemirror_mode": {
    "name": "ipython",
    "version": 3
   },
   "file_extension": ".py",
   "mimetype": "text/x-python",
   "name": "python",
   "nbconvert_exporter": "python",
   "pygments_lexer": "ipython3",
   "version": "3.11.5"
  }
 },
 "nbformat": 4,
 "nbformat_minor": 5
}
