{
 "cells": [
  {
   "cell_type": "markdown",
   "id": "b4243b44",
   "metadata": {},
   "source": [
    "## What is Power BI \n",
    "\n",
    "-   `Power BI` is a collection of '*software services*', '*apps'*, and '*connectors'* that work together to turn your unrelated sources of data into coherent, visually immerse, and interactive insights.\n",
    "\n",
    "\n",
    "-   Your data might be an 'Excel spreadsheet', or a 'collection of cloud-based' and 'on-premises hybrid data warehouses'.\n",
    "\n",
    "\n",
    "-   `Power BI` lets you easily connect to your '*data sources'*, '*visualize*' and '*discover*' what's important, and share that with anyone or everyone you want.\n",
    "\n",
    "\n",
    "-   `Power BI` is a '*tool*' in '*business intelligence*' that converts '*data*' from various data sources to interactive BI *reports* and *dashboards*. With Power BI, you can quickly connect your data, wrap it, visualize it as needed, and share it on sites securely.\n",
    "\n",
    "\n",
    "-   `Power BI` is a tool in the category of '*Business Intelligence(BI)*'.The purpose of BI is to track Key ***Performance Indicators (KPIs)*** and uncover insights in business data so as to better inform decision-making across the organization.\n",
    "\n",
    "\n",
    "-   `Power BI` is used in different ways depending on the role of the individual, from developers, analysts, managers, and directors, to everyone in between.\n"
   ]
  },
  {
   "cell_type": "code",
   "execution_count": null,
   "id": "b9780756",
   "metadata": {},
   "outputs": [],
   "source": []
  },
  {
   "cell_type": "markdown",
   "id": "ee0e3971",
   "metadata": {},
   "source": [
    "**Target `Audience` for Power BI are**\n",
    "\n",
    "-   Data Analysts\n",
    "-   Data Scientists\n",
    "-   Business Intelligence Professionals\n",
    "-   Business Analysts\n",
    "-   IT Professionals\n",
    "-   Project Managers"
   ]
  },
  {
   "cell_type": "code",
   "execution_count": null,
   "id": "e3afbf69",
   "metadata": {},
   "outputs": [],
   "source": []
  },
  {
   "cell_type": "markdown",
   "id": "e87e3819",
   "metadata": {},
   "source": [
    "**The parts of `Power BI`**\n",
    "\n",
    "1.  A Windows desktop application called '**Power BI Desktop'**.\n",
    "\n",
    "2.  An online software as a service (SaaS) service called the '**Power BI service**'.\n",
    "\n",
    "3.  **Power BI Mobile apps** for Windows, iOS, and Android devices.\n",
    "\n"
   ]
  },
  {
   "cell_type": "markdown",
   "id": "71f58e60",
   "metadata": {},
   "source": []
  },
  {
   "cell_type": "markdown",
   "id": "2132b80a",
   "metadata": {},
   "source": [
    "**Other Features with `Power BI`**\n",
    "\n",
    "`Power BI` also features two other elements:\n",
    "\n",
    "1.  **Power BI Report Builder** - Creating paginated reports to share in the **Power BI service**\n",
    "\n",
    "2.  **Power BI Report Server** - An on-premises report server where you can '**`publish`**' your Power BI reports, after creating them in **`Power BI Desktop`**"
   ]
  },
  {
   "cell_type": "code",
   "execution_count": null,
   "id": "d46b535e",
   "metadata": {},
   "outputs": [],
   "source": []
  },
  {
   "cell_type": "markdown",
   "id": "dbce8f0a",
   "metadata": {},
   "source": [
    "**`Power BI` Key Components**\n",
    "\n",
    "1.  Power Query\n",
    "\n",
    "2.  Power Pivot\n",
    "\n",
    "3.  Power View\n",
    "\n",
    "4.  Power Map\n",
    "\n",
    "5.  Power Q&A\n",
    "\n",
    "6.  Power BI Desktop\n",
    "\n",
    "7.  Power BI Website\n",
    "\n",
    "8.  Power BI Mobile Apps\n"
   ]
  },
  {
   "cell_type": "code",
   "execution_count": null,
   "id": "def07a1c",
   "metadata": {},
   "outputs": [],
   "source": []
  },
  {
   "cell_type": "markdown",
   "id": "3f38c359",
   "metadata": {},
   "source": [
    "**Benefits of `Power BI`**\n",
    "\n",
    "1.  Collaboration and Sharing:\n",
    "    -   **Power BI** facilitates collaboration by allowing users to share reports and dashboards with colleagues and stakeholders\n",
    "\n",
    "        ------------------------------------------------------------------------\n",
    "2.  Data Visualization:\n",
    "    -   **Power BI** enables you to create compelling visualizations, charts, graphs, and dashboards from your data.\n",
    "\n",
    "    -   These visuals are interactive and provide insights that are easy to understand, making it simpler to communicate complex information.\n",
    "\n",
    "        ------------------------------------------------------------------------\n",
    "3.  Data Connectivity\n",
    "    -   **Power BI** allows you to connect to a wide variety of data sources, including databases, cloud services, spreadsheets, and APIs.\n",
    "\n",
    "        ------------------------------------------------------------------------\n",
    "4.  Real-Time Dashboards:\n",
    "    -   With **Power BI's** real-time capabilities, you can create live dashboards that display data updates as they happen.\n",
    "\n",
    "    -   This is especially valuable for tracking key performance indicators and making data-driven decisions in real time.\n",
    "\n",
    "        ------------------------------------------------------------------------\n",
    "5.  Natural Language Queries:\n",
    "    -   **Power BI** supports natural language queries, allowing users to ask questions about their data using everyday language.\n",
    "\n",
    "        ------------------------------------------------------------------------\n",
    "6.  Data Modeling:\n",
    "    -   The **Power BI** data modeling engine lets you create relationships between different data tables, define calculations, and create measures. This enables you to perform advanced calculations and build complex data models for in-depth analysis.\n",
    "\n",
    "        ------------------------------------------------------------------------\n",
    "7.  Mobile Accessibility:\n",
    "    1.  **Power BI** offers mobile apps for various platforms, allowing users to access reports and dashboards on smartphones and tablets. This ensures that decision-makers can stay informed even while on the go.\n"
   ]
  },
  {
   "cell_type": "code",
   "execution_count": null,
   "id": "e4270908",
   "metadata": {},
   "outputs": [],
   "source": []
  },
  {
   "cell_type": "markdown",
   "id": "a2f388d0",
   "metadata": {},
   "source": [
    "**Use of `Power BI` in `Business Intelligence`**\n",
    "\n",
    "The 'BI' in its name refers to `Business intelligence`, a catch-all term used to describe the ***strategies***, ***processes*** and ***technologies*** that organisations use to enable data-driven *decision-making*.\n",
    "\n",
    "`Power BI` allows businesses to bridge the gap between '**data**' and '**decision-making**' by transforming **raw data** from a range of different sources into **powerful insights**. These **insights** are then displayed in a clear, *graphical*, *actionable* way via the *dashboard*.\n"
   ]
  },
  {
   "cell_type": "code",
   "execution_count": null,
   "id": "e0bf0c94",
   "metadata": {},
   "outputs": [],
   "source": []
  },
  {
   "cell_type": "markdown",
   "id": "4fa21930",
   "metadata": {},
   "source": [
    "**`Power BI` for Visualization**\n",
    "\n",
    "-   Data visualization,the art of representing data graphically,conveys essential information through charts,graphs,KPIs,and maps.\n",
    "-   `Power BI` provides 'interactive' and visually appealing '***dashboards***' and reports to help you easily 'analyze' and understand data\n",
    "-   `Power BI` provides a variety of visualizations, including charts, graphs, maps, tables, and KPIs, to help users understand and communicate insights from their data.\n",
    "-   It also provides a suite of advanced analytics tools, such as '**drill-through**', '**cross-filtering**', and '**data exploration'**, to help users 'uncover' '**hidden patterns**' and '**relationships**' in their data.\n",
    "-   Business leaders make use of **data storytelling** and **visually** enticing displays that help them communicate with clients, employees and other stakeholders.\n",
    "-   Telling stories through charts and data visualizations.\n",
    "-   Examining what-if scenarios within the data.\n",
    "-   Creating reports that answer questions in real time and help with forecasting to make sure departments meet business metrics.\n"
   ]
  },
  {
   "cell_type": "code",
   "execution_count": null,
   "id": "06a87a9c",
   "metadata": {},
   "outputs": [],
   "source": []
  },
  {
   "cell_type": "markdown",
   "id": "9b041a38",
   "metadata": {},
   "source": [
    "**What is `Business Intelligence`**\n",
    "\n",
    "Business Intelligence (BI) – the process of **refining** raw data into **actionable informati**culminating **on**, in illuminating reports and graphics."
   ]
  },
  {
   "cell_type": "code",
   "execution_count": null,
   "id": "263f3a11",
   "metadata": {},
   "outputs": [],
   "source": []
  },
  {
   "cell_type": "markdown",
   "id": "1e6b653b",
   "metadata": {},
   "source": [
    "**DashBoards**\n",
    "\n",
    "The **dashboard** is interactive visual, text, and graphic tiles created by you in the `Power BI` service or by a colleague in the\n",
    "\n",
    "`Power BI` service and shared with you. contains a single screen.\n",
    "\n",
    "Why are dashboards created? Some of the reasons are:\n",
    "\n",
    "\\- You'll see all the necessary information on a single page to make a decision.\n",
    "\n",
    "\\- You have the power of monitoring the most important trends in your business.\n",
    "\n",
    "\\- You put everyone in your team in the same direction, viewing and using the same information.\n",
    "\n",
    "\\- Dashboards are a way to monitor your business and see all your most important metrics at a glance.\n"
   ]
  },
  {
   "cell_type": "code",
   "execution_count": null,
   "id": "73cc66fa",
   "metadata": {},
   "outputs": [],
   "source": []
  },
  {
   "cell_type": "markdown",
   "id": "454a609b",
   "metadata": {},
   "source": [
    "**Data Modeling in `Power BI`**\n",
    "\n",
    "-   In `Power BI`, modeling involves *creating relationships* between *tables* that might come from different *data sources*.\n",
    "\n",
    "-   **Modeling** includes specifying tables, defining *relationships* between *tables*, and *creating calculated columns or measures.*\n",
    "-   *Relationships* determine how the data in one table is connected to data in another.\n",
    "\n",
    "\n",
    "**Ex**: In a data model, a dimension table (table1 from datasource1) is linked to a fact table (table2 from datasource2) through a relationship. By linking the two tables together, `Power BI` users can analyze the data in the fact table by *filtering*, *grouping*, and *aggregating* the data based on the attributes in the dimension table.\n"
   ]
  },
  {
   "cell_type": "code",
   "execution_count": null,
   "id": "eabfd879",
   "metadata": {},
   "outputs": [],
   "source": []
  },
  {
   "cell_type": "markdown",
   "id": "dafab2ac",
   "metadata": {},
   "source": [
    "**What is `Data Insights`**\n",
    "\n",
    "-   The `data insights` are the value and *`knowledge`* you gain after `analyzing` the *`raw data`*.\n",
    "-   *`Data insights`* are the informed conclusions you `drawn` from finding **patterns** and **relationships** in the data\n",
    "-   *`Data insights`* lead to the better *informed decisions* about the *budget*, *time*, *customer* and leadership choices"
   ]
  },
  {
   "cell_type": "markdown",
   "id": "042bad85",
   "metadata": {},
   "source": [
    "*`Actionable data insights`* refers to *`insights`* that are `specific` and `relevant` enough that they lead to actions which can increase *efficiency*, *revenue* and *profits*.\n",
    "\n",
    "-   `Data` = a collection of facts.\n",
    "-   `Analytics` = organizing and examining data.\n",
    "-   `Insights` = discovering patterns in data.\n",
    "\n",
    "<br>\n",
    "\n",
    "***`Data insights`*** Examples\n",
    "\n",
    "1.  **Optimize** processes to improve performance.\n",
    "2.  **Uncover** new markets, products or services to add new sources of revenue.\n",
    "3.  **Better balance** risk vs reward to reduce loss.\n",
    "4.  Deepen the understanding of customers to increase loyalty and lifetime value."
   ]
  },
  {
   "cell_type": "code",
   "execution_count": null,
   "id": "89d7f6b5",
   "metadata": {},
   "outputs": [],
   "source": []
  },
  {
   "cell_type": "markdown",
   "id": "d3332bf9",
   "metadata": {},
   "source": [
    "Difference between ***Dashboards*** and ***Reports*** in `Power BI`\n",
    "\n",
    "***Dashboards*** are used for *`high-level monitoring`*, often in real-time or near-real-time, providing a consolidated view of business performance.\n",
    "\n",
    "***Reports***, on the other hand, are used for *`in-depth analysis`* and *`exploration`* of data to answer complex business questions.\n"
   ]
  },
  {
   "cell_type": "code",
   "execution_count": null,
   "id": "8c3573aa",
   "metadata": {},
   "outputs": [],
   "source": []
  },
  {
   "cell_type": "markdown",
   "id": "0e951e24",
   "metadata": {},
   "source": [
    "Difference between **'Power BI Desktop'** and **'Power BI Service' (Power BI Online)**\n",
    "\n",
    "-   `Power BI Desktop` and `Power BI` are two sides of the `same coin`\n",
    "\n",
    "    ------------------------------------------------------------------------\n",
    "\n",
    "-   `Power BI Desktop` is a Windows application running on your PC, whereas `Power BI` is a cloud service that you use through the `web browser`.\n",
    "\n",
    "    ------------------------------------------------------------------------\n",
    "\n",
    "-   `Power BI Service`, often referred to as `Power BI Online`, is the cloud-based counterpart of Power BI. It enables user to `publish`, `share`, and `collaborate` on Power BI reports and dashboards created in Power BI Desktop\n"
   ]
  },
  {
   "cell_type": "code",
   "execution_count": null,
   "id": "4cd5ee21",
   "metadata": {},
   "outputs": [],
   "source": []
  },
  {
   "cell_type": "markdown",
   "id": "67045725",
   "metadata": {},
   "source": [
    "**Power BI Desktop**\n",
    "\n",
    "-   `Offline Work:` `Power BI` Desktop allows you to work on your reports `without` an *internet connection.* This is especially useful for scenarios where `data privacy` or compliance requirements `restrict` cloud access.\n",
    "\n",
    "    ------------------------------------------------------------------------\n",
    "\n",
    "-   `Advanced Calculations`: For `complex calculations`, `custom measures`, and `DAX (Data Analysis Expressions)` formulas, `Power BI Desktop` provides a comprehensive environment for creating and testing these calculations.\n",
    "\n",
    "    ------------------------------------------------------------------------\n",
    "\n",
    "-   `Data Preparation and Modeling:` `Power BI Desktop` is your go-to tool when you need to `import`, `clean`, and `transform` data from different `sources`. You can create `relationships` between tables, define calculated columns, and customize the data model to suit your needs.\n"
   ]
  },
  {
   "cell_type": "code",
   "execution_count": null,
   "id": "2e213363",
   "metadata": {},
   "outputs": [],
   "source": []
  }
 ],
 "metadata": {
  "kernelspec": {
   "display_name": "Python 3 (ipykernel)",
   "language": "python",
   "name": "python3"
  },
  "language_info": {
   "codemirror_mode": {
    "name": "ipython",
    "version": 3
   },
   "file_extension": ".py",
   "mimetype": "text/x-python",
   "name": "python",
   "nbconvert_exporter": "python",
   "pygments_lexer": "ipython3",
   "version": "3.11.5"
  }
 },
 "nbformat": 4,
 "nbformat_minor": 5
}
